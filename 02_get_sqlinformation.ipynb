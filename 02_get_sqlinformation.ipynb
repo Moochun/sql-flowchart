{
 "cells": [
  {
   "cell_type": "markdown",
   "metadata": {},
   "source": [
    "# Flow chart 層級======\n",
    "\n",
    "---------\n",
    "1. TABLE NAMES (1:N)\n",
    "2. FROM - 完整 join 表 (1)\n",
    "3. WHER - 完整篩選條件列表(1)\n",
    "4. GROUP BY - 完整group by 列表 (1)\n",
    "5. ORDER BY - 完整order by 列表 (1)\n",
    "6. limit - 數字 (1)\n",
    "7. SELECT - 選取欄位列表 (1) \n",
    "8. CREATE TABLE NAME"
   ]
  },
  {
   "cell_type": "markdown",
   "metadata": {},
   "source": [
    "# 子查詢取代KEY NAME Function\n",
    "### 1.紀錄各項查詢LEVEL\n",
    "- subq_counts : \"_\" 次數決定子查詢所在等級(0:主查詢、1:1st子查詢、2:2nd子查詢)\n",
    "- subq_values : 取得子查詢列表的 sql表示\n",
    "- subq_keys : 取得子查詢列表的 KEY標註 表示 (\"MAIN\", \"MAIN_SELECT1\", ....)\n",
    "\n",
    "### 2. 兩迴圈分別檢視每一個 subq_values與下一層子查詢是否需要置換\n",
    "- this_level : subq_counts[idx] ， 子查詢所在等級\n",
    "- next_level : this_level + 1 ，子查詢下一層等級\n",
    "- next_level_check : 觀察兩件事\n",
    " - 是否為下一層：subq_counts[idx_2nd]判斷是否等於 next level\n",
    " - 上下層等級是否相關 : ex: MAIN 與 MAIN_SELECT1相關、\n",
    "   但MAIN_WHERE與MAIN_SELECT_1不相關\n",
    "   \n",
    "### 3. 置換KEY NAME 的VALUE by 第二層的KEYNAME，並加上SUBQ.作為子查詢標註\n",
    "第二層KEYNAME : MAIN_FROM1、MAIN_WHERE1、MAIN_FROM1_FROM1....\n",
    "- 範例：(subquery) → (MAIN_FROM1) → (SUBQ.MAIN_FROM1)\n",
    "- 置換括號：(SUBQ.MAIN_FROM1) → SUBQ.MAIN_FROM1"
   ]
  },
  {
   "cell_type": "code",
   "execution_count": null,
   "metadata": {
    "collapsed": true
   },
   "outputs": [],
   "source": []
  }
 ],
 "metadata": {
  "kernelspec": {
   "display_name": "Python 3",
   "language": "python",
   "name": "python3"
  },
  "language_info": {
   "codemirror_mode": {
    "name": "ipython",
    "version": 3
   },
   "file_extension": ".py",
   "mimetype": "text/x-python",
   "name": "python",
   "nbconvert_exporter": "python",
   "pygments_lexer": "ipython3",
   "version": "3.6.1"
  }
 },
 "nbformat": 4,
 "nbformat_minor": 2
}
