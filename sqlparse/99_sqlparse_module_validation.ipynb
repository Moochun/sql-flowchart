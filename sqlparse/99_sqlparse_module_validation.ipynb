{
 "cells": [
  {
   "cell_type": "markdown",
   "metadata": {},
   "source": [
    "# 子查詢抓取\n",
    "1. 擷取所有Node list \n",
    "2. loop所有Node\n",
    "3. 細節如下 \n",
    " - 若整體無keyword return “ ” (應該不用)\n",
    " - loop : token_next()功能抓取下一個token 判斷有沒有 \"括號\" 。\n",
    " - 若有keyword token ： 更新dict\n",
    " - 記錄功能列 : SELECT 、 WHERE 、FROM\n",
    " - 遇到Where 要往下伸展\n",
    " - 判斷括號進入 : subquery_trace(dict, sqlfun, tokens)\n",
    " - 迴圈結束後return dictionary"
   ]
  },
  {
   "cell_type": "code",
   "execution_count": 1,
   "metadata": {
    "collapsed": true
   },
   "outputs": [],
   "source": [
    "import sqlparse"
   ]
  },
  {
   "cell_type": "code",
   "execution_count": 2,
   "metadata": {
    "collapsed": true
   },
   "outputs": [],
   "source": [
    "the_query = '''CREATE TABLE FINAL as \n",
    "               select a1, count(a2) \n",
    "               from MEOW.AAA_table as t3 \n",
    "                    left join (SELECT * FROM (SELECT * FROM MEOW.CCC_table ) as t1 ) as t2 on (t3.a1 = t2.a5)\n",
    "               where t3.X1 = 'thing' and t3.X2 in (SELECT distinct(b1) FROM MEOW.BBB_table ) \n",
    "               Group by a1\n",
    "               limit 15'''\n",
    "the_query3 = '''CREATE TABLE FINAL as \n",
    "               select a1, count(a2) \n",
    "               from MEOW.AAA_table as t3 \n",
    "                    left join (SELECT * FROM MEOW.BBB_table ) as t2 on (t3.a1 = t2.a5)\n",
    "               where t3.X1 = 'thing' and t3.X2 in (SELECT distinct(b1) FROM MEOW.BBB_table ) \n",
    "               Group by a1\n",
    "               limit 15'''\n"
   ]
  },
  {
   "cell_type": "code",
   "execution_count": 12,
   "metadata": {},
   "outputs": [
    {
     "data": {
      "text/plain": [
       "[<DDL 'CREATE' at 0x511CA08>,\n",
       " <Whitespace ' ' at 0x5142BE8>,\n",
       " <Keyword 'TABLE' at 0x5142C48>,\n",
       " <Whitespace ' ' at 0x5142CA8>,\n",
       " <Keyword 'FINAL' at 0x5142D08>,\n",
       " <Whitespace ' ' at 0x5142D68>,\n",
       " <Keyword 'as' at 0x5142DC8>,\n",
       " <Whitespace ' ' at 0x5142E28>,\n",
       " <Newline ' ' at 0x5142E88>,\n",
       " <Whitespace ' ' at 0x5142EE8>,\n",
       " <Whitespace ' ' at 0x5142F48>,\n",
       " <Whitespace ' ' at 0x5142FA8>,\n",
       " <Whitespace ' ' at 0x4E73048>,\n",
       " <Whitespace ' ' at 0x4E730A8>,\n",
       " <Whitespace ' ' at 0x4E73108>,\n",
       " <Whitespace ' ' at 0x4E73168>,\n",
       " <Whitespace ' ' at 0x4E731C8>,\n",
       " <Whitespace ' ' at 0x4E73228>,\n",
       " <Whitespace ' ' at 0x4E73288>,\n",
       " <Whitespace ' ' at 0x4E732E8>,\n",
       " <Whitespace ' ' at 0x4E73348>,\n",
       " <Whitespace ' ' at 0x4E733A8>,\n",
       " <Whitespace ' ' at 0x4E73408>,\n",
       " <Whitespace ' ' at 0x4E73468>,\n",
       " <DML 'select' at 0x4E734C8>,\n",
       " <Whitespace ' ' at 0x4E73528>,\n",
       " <IdentifierList 'a1, co...' at 0x4E67A20>,\n",
       " <Parenthesis '(a2)' at 0x4EECA98>,\n",
       " <Whitespace ' ' at 0x4E73828>,\n",
       " <Newline ' ' at 0x4E73888>,\n",
       " <Whitespace ' ' at 0x4E738E8>,\n",
       " <Whitespace ' ' at 0x4E73948>,\n",
       " <Whitespace ' ' at 0x4E739A8>,\n",
       " <Whitespace ' ' at 0x4E73A08>,\n",
       " <Whitespace ' ' at 0x4E73A68>,\n",
       " <Whitespace ' ' at 0x4E73AC8>,\n",
       " <Whitespace ' ' at 0x4E73B28>,\n",
       " <Whitespace ' ' at 0x4E73B88>,\n",
       " <Whitespace ' ' at 0x4E73BE8>,\n",
       " <Whitespace ' ' at 0x4E73C48>,\n",
       " <Whitespace ' ' at 0x4E73CA8>,\n",
       " <Whitespace ' ' at 0x4E73D08>,\n",
       " <Whitespace ' ' at 0x4E73D68>,\n",
       " <Whitespace ' ' at 0x4E73DC8>,\n",
       " <Whitespace ' ' at 0x4E73E28>,\n",
       " <Keyword 'from' at 0x4E73E88>,\n",
       " <Whitespace ' ' at 0x4E73EE8>,\n",
       " <Identifier 'MEOW.A...' at 0x4E67408>,\n",
       " <Whitespace ' ' at 0x4E72D08>,\n",
       " <Newline ' ' at 0x4E72E88>,\n",
       " <Whitespace ' ' at 0x4E72EE8>,\n",
       " <Whitespace ' ' at 0x4E72F48>,\n",
       " <Whitespace ' ' at 0x4E72288>,\n",
       " <Whitespace ' ' at 0x4E722E8>,\n",
       " <Whitespace ' ' at 0x4E72348>,\n",
       " <Whitespace ' ' at 0x4E723A8>,\n",
       " <Whitespace ' ' at 0x4E72408>,\n",
       " <Whitespace ' ' at 0x4E72468>,\n",
       " <Whitespace ' ' at 0x4E724C8>,\n",
       " <Whitespace ' ' at 0x4E72648>,\n",
       " <Whitespace ' ' at 0x4E726A8>,\n",
       " <Whitespace ' ' at 0x4E72828>,\n",
       " <Whitespace ' ' at 0x4E72A68>,\n",
       " <Whitespace ' ' at 0x4E72D68>,\n",
       " <Whitespace ' ' at 0x4E72DC8>,\n",
       " <Whitespace ' ' at 0x4E72E28>,\n",
       " <Whitespace ' ' at 0x4E72708>,\n",
       " <Whitespace ' ' at 0x4E72768>,\n",
       " <Whitespace ' ' at 0x4E727C8>,\n",
       " <Whitespace ' ' at 0x4E72948>,\n",
       " <Keyword 'left j...' at 0x4E729A8>,\n",
       " <Whitespace ' ' at 0x4E72A08>,\n",
       " <Identifier '(SELEC...' at 0x4E67E58>,\n",
       " <Whitespace ' ' at 0x4E745E8>,\n",
       " <Keyword 'on' at 0x4E74648>,\n",
       " <Whitespace ' ' at 0x4E746A8>,\n",
       " <Parenthesis '(t3.a1...' at 0x4E1CD68>,\n",
       " <Newline ' ' at 0x4E74B88>,\n",
       " <Whitespace ' ' at 0x4E74BE8>,\n",
       " <Whitespace ' ' at 0x4E74C48>,\n",
       " <Whitespace ' ' at 0x4E74CA8>,\n",
       " <Whitespace ' ' at 0x4E74D08>,\n",
       " <Whitespace ' ' at 0x4E74D68>,\n",
       " <Whitespace ' ' at 0x4E74DC8>,\n",
       " <Whitespace ' ' at 0x4E74E28>,\n",
       " <Whitespace ' ' at 0x4E74E88>,\n",
       " <Whitespace ' ' at 0x4E74EE8>,\n",
       " <Whitespace ' ' at 0x4E74F48>,\n",
       " <Whitespace ' ' at 0x4E74FA8>,\n",
       " <Whitespace ' ' at 0x4E714C8>,\n",
       " <Whitespace ' ' at 0x4E71528>,\n",
       " <Whitespace ' ' at 0x4E71588>,\n",
       " <Whitespace ' ' at 0x4E715E8>,\n",
       " <Where 'where ...' at 0x4E679A8>,\n",
       " <Keyword 'Group ...' at 0x51264C8>,\n",
       " <Whitespace ' ' at 0x5126528>,\n",
       " <Identifier 'a1' at 0x4E670C0>,\n",
       " <Newline ' ' at 0x51265E8>,\n",
       " <Whitespace ' ' at 0x5126648>,\n",
       " <Whitespace ' ' at 0x51266A8>,\n",
       " <Whitespace ' ' at 0x5126708>,\n",
       " <Whitespace ' ' at 0x5126768>,\n",
       " <Whitespace ' ' at 0x51267C8>,\n",
       " <Whitespace ' ' at 0x5126828>,\n",
       " <Whitespace ' ' at 0x5126888>,\n",
       " <Whitespace ' ' at 0x51268E8>,\n",
       " <Whitespace ' ' at 0x5126948>,\n",
       " <Whitespace ' ' at 0x51269A8>,\n",
       " <Whitespace ' ' at 0x5126A08>,\n",
       " <Whitespace ' ' at 0x5126A68>,\n",
       " <Whitespace ' ' at 0x5126AC8>,\n",
       " <Whitespace ' ' at 0x5126B28>,\n",
       " <Whitespace ' ' at 0x5126B88>,\n",
       " <Keyword 'limit' at 0x5126BE8>,\n",
       " <Whitespace ' ' at 0x5126C48>,\n",
       " <Integer '15' at 0x5126CA8>]"
      ]
     },
     "execution_count": 12,
     "metadata": {},
     "output_type": "execute_result"
    }
   ],
   "source": [
    "res3 = sqlparse.parse(the_query)\n",
    "stmt3 = res3[0]\n",
    "stmt3.tokens"
   ]
  },
  {
   "cell_type": "markdown",
   "metadata": {},
   "source": [
    "## Function : 是否有子查詢"
   ]
  },
  {
   "cell_type": "code",
   "execution_count": 3,
   "metadata": {
    "collapsed": true
   },
   "outputs": [],
   "source": [
    "def is_subselect(parsed):\n",
    "    if not parsed.is_group:\n",
    "        return False\n",
    "    for item in parsed.tokens:\n",
    "        if item.ttype is DML and item.value.upper() == 'SELECT':\n",
    "            return True\n",
    "    return False"
   ]
  },
  {
   "cell_type": "markdown",
   "metadata": {},
   "source": [
    "## Function : 追蹤token內的列表並確認是否有子查詢 "
   ]
  },
  {
   "cell_type": "code",
   "execution_count": 4,
   "metadata": {
    "collapsed": true
   },
   "outputs": [],
   "source": [
    "def trace_token_is_subselect(parsed, count_dict, state):\n",
    "    subselect_dict = {} # count_dict as KEY, item as VALUE\n",
    "    \n",
    "    ## No group return null subquery_dict\n",
    "    if not parsed.is_group:\n",
    "        return subselect_dict\n",
    "    \n",
    "    ## With group return Record subquery_dict\n",
    "    for item in parsed.tokens:\n",
    "        if is_subselect(item):\n",
    "            count_dict[state] += 1\n",
    "            subselect_dict[ count_dict[state] ] = item\n",
    "    \n",
    "    return subselect_dict\n",
    "    "
   ]
  },
  {
   "cell_type": "code",
   "execution_count": 142,
   "metadata": {},
   "outputs": [],
   "source": [
    "the_query\n",
    "subquery_dict={} # Save \"query\" Scripts and \"tokens\"\n",
    "state = \"MAIN\" # MAIN、SELECT、FROM、WHERE\n",
    "res = sqlparse.parse(the_query)\n",
    "stmt = res[0]\n",
    "# subquery_dict[state] = {\"query\" : the_query, \"tokens\" : stmt.tokens}\n",
    "\n",
    "# Record subquery in differnent statement out times\n",
    "count_dict = {\"MAIN\" : 0, \"SELECT\" : 0, \"FROM\" : 0, \"WHERE\" : 0}\n",
    "statement = \"\""
   ]
  },
  {
   "cell_type": "code",
   "execution_count": null,
   "metadata": {},
   "outputs": [],
   "source": []
  },
  {
   "cell_type": "markdown",
   "metadata": {},
   "source": [
    "## 主程式\n",
    "### 1.判斷子查詢相關SQL功能\n",
    "- SELECT : 判斷ttype is DML + 值為 \"SELECT\"\n",
    "- FROM : 判斷ttype is Keyword + 值為 \"FROM\"\n",
    "- WHERE : 判斷instance is Where + 值含 \"WHERE\"\n",
    "\n",
    "### 2. 紀錄上述state作為後續標註\n",
    "- state : 樣式為 # MAIN、SELECT、FROM、WHERE再持續往上加\n",
    "- count_dict：紀錄不同樣式的子查詢出現次數。"
   ]
  },
  {
   "cell_type": "code",
   "execution_count": 101,
   "metadata": {},
   "outputs": [
    {
     "name": "stdout",
     "output_type": "stream",
     "text": [
      "SELECT表示句:SELECT\n",
      "FROM表示句:FROM\n",
      "MAIN_FROM1\n",
      "(SELECT * FROM MEOW.CCC_table )\n"
     ]
    }
   ],
   "source": [
    "from sqlparse.sql import IdentifierList, Identifier, Where\n",
    "from sqlparse.tokens import Keyword, DML, DDL\n",
    "import re\n",
    "# global variables \n",
    "subquery_dict={} # Save \"query\" Scripts and \"tokens\"\n",
    "state = \"MAIN\" # MAIN、SELECT、FROM、WHERE\n",
    "\n",
    "# Function local variables and codes \n",
    "# Record query's tokens\n",
    "res = sqlparse.parse(the_query)\n",
    "stmt = res[0]\n",
    "subquery_dict[state] = {\"query\" : the_query, \"tokens\" : stmt.tokens}\n",
    "\n",
    "# Record subquery in differnent statement out times\n",
    "count_dict = {\"MAIN\" : 0, \"SELECT\" : 0, \"FROM\" : 0, \"WHERE\" : 0}\n",
    "statement = \"\"\n",
    "for token in stmt.tokens:\n",
    "    \n",
    "    # Setting state\n",
    "    if token.ttype is DML and token.value.upper() == \"SELECT\":\n",
    "        statement = \"SELECT\"\n",
    "        print(\"SELECT表示句:\" + token.value.upper())\n",
    "    if token.ttype is Keyword and token.value.upper() == \"FROM\":\n",
    "        statement = \"FROM\"\n",
    "        print(\"FROM表示句:\" + token.value.upper())\n",
    "    if isinstance(token, Where) and bool(re.search(\"WHERE\",token.value.upper())):\n",
    "        statement = \"WHERE\"\n",
    "        print(\"WHERE表示句:\" + token.value.upper())\n",
    "        \n",
    "    # is_subselect check \n",
    "    ## Record statement count and Print subselect position \n",
    "    ### 1st class trace\n",
    "    ### Save subquerys and recursive\n",
    "    if (is_subselect(token)):\n",
    "        count_dict[statement] += 1\n",
    "        the_subquery = token.value # Delete Captain and tail (parentheses)\n",
    "        the_subtoken = token.tokens\n",
    "        new_state = state + \"_\" + statement + count_dict[statement] # Subselect key set new state\n",
    "        subquery_dict[new_state] = {\"query\" : the_subquery, \"tokens\" : the_subtokens}\n",
    "        print(new_state)\n",
    "        print(the_subquery)\n",
    "    \n",
    "    ### 2nd class trace    \n",
    "    ### Save subquerys and recursive \n",
    "    subselect_dict = {}\n",
    "    subselect_dict = trace_token_is_subselect(token, count_dict, statement) \n",
    "    for sub_item in subselect_dict.items():\n",
    "        the_subquery = sub_item[1].value # Delete Captain and tail (parentheses)\n",
    "        the_subtokens = sub_item[1]\n",
    "        new_state = state + \"_\" + statement + str(sub_item[0]) # Subselect key set new state\n",
    "        subquery_dict[new_state] = {\"query\" : the_subquery, \"tokens\" : the_subtokens}\n",
    "        print(new_state)\n",
    "        print(the_subquery)\n",
    "        \n",
    "    "
   ]
  },
  {
   "cell_type": "code",
   "execution_count": 190,
   "metadata": {},
   "outputs": [
    {
     "ename": "NameError",
     "evalue": "name 'subquery_dict_params' is not defined",
     "output_type": "error",
     "traceback": [
      "\u001b[1;31m---------------------------------------------------------------------------\u001b[0m",
      "\u001b[1;31mNameError\u001b[0m                                 Traceback (most recent call last)",
      "\u001b[1;32m<ipython-input-190-b78d2117df23>\u001b[0m in \u001b[0;36m<module>\u001b[1;34m()\u001b[0m\n\u001b[1;32m----> 1\u001b[1;33m \u001b[0msubquery_dict_params\u001b[0m\u001b[1;33m\u001b[0m\u001b[0m\n\u001b[0m",
      "\u001b[1;31mNameError\u001b[0m: name 'subquery_dict_params' is not defined"
     ]
    }
   ],
   "source": [
    "subquery_dict_params"
   ]
  },
  {
   "cell_type": "markdown",
   "metadata": {},
   "source": [
    "## 主程式遞迴Function"
   ]
  },
  {
   "cell_type": "code",
   "execution_count": 217,
   "metadata": {},
   "outputs": [],
   "source": [
    "def split_subquery(the_query, state = \"MAIN\", subquery_dict_params = {}):\n",
    "    # Function local variables and codes \n",
    "    # Record query's tokens\n",
    "    subquery_dict = subquery_dict_params\n",
    "    print(subquery_dict)\n",
    "    res = sqlparse.parse(the_query)\n",
    "    stmt = res[0]\n",
    "    subquery_dict[state] = the_query\n",
    "\n",
    "    # 01 Record subquery in differnent statement out times\n",
    "    count_dict = {\"MAIN\" : 0, \"SELECT\" : 0, \"FROM\" : 0, \"WHERE\" : 0}\n",
    "    statement = \"\"\n",
    "    for token in stmt.tokens:\n",
    "\n",
    "        # 02 Setting state\n",
    "        if token.ttype is DML and token.value.upper() == \"SELECT\":\n",
    "            statement = \"SELECT\"\n",
    "            print(\"SELECT表示句:\" + token.value.upper())\n",
    "        if token.ttype is Keyword and token.value.upper() == \"FROM\":\n",
    "            statement = \"FROM\"\n",
    "            print(\"FROM表示句:\" + token.value.upper())\n",
    "        if isinstance(token, Where) and bool(re.search(\"WHERE\",token.value.upper())):\n",
    "            statement = \"WHERE\"\n",
    "            print(\"WHERE表示句:\" + token.value.upper())\n",
    "\n",
    "        # 03 is_subselect check \n",
    "        ## Record statement count and Print subselect position \n",
    "        ### 03_1 1st class trace\n",
    "        ### Save subquerys and recursive\n",
    "        if (is_subselect(token)):\n",
    "            count_dict[statement] += 1\n",
    "            the_subquery = token.value # Delete Captain and tail (parentheses)\n",
    "            the_subtoken = token.tokens\n",
    "            new_state = state + \"_\" + statement + count_dict[statement] # Subselect key set new state\n",
    "            subquery_dict[new_state] =  the_subquery\n",
    "            split_subquery(the_query = the_subquery[1:-1], \n",
    "                           state = new_state, \n",
    "                           subquery_dict_params = subquery_dict)\n",
    "\n",
    "        ### 03_2 2nd class trace    \n",
    "        ### Save subquerys and recursive \n",
    "        subselect_dict = {}\n",
    "        subselect_dict = trace_token_is_subselect(token, count_dict, statement) \n",
    "        for sub_item in subselect_dict.items():\n",
    "            the_subquery = sub_item[1].value # Delete Captain and tail (parentheses)\n",
    "            the_subtokens = sub_item[1]\n",
    "            new_state = state + \"_\" + statement + str(sub_item[0]) # Subselect key set new state\n",
    "            subquery_dict[new_state] = the_subquery\n",
    "            print(new_state)\n",
    "            print(the_subquery)\n",
    "            ### recirsive subselect and Update the subquery_dict\n",
    "            split_subquery(the_query = the_subquery[1:-1], \n",
    "                           state = new_state, \n",
    "                           subquery_dict_params = subquery_dict)\n",
    "  \n",
    "        \n",
    "    return(subquery_dict)\n",
    "    "
   ]
  },
  {
   "cell_type": "code",
   "execution_count": 134,
   "metadata": {},
   "outputs": [
    {
     "data": {
      "text/plain": [
       "{'FROM': 1, 'MAIN': 0, 'SELECT': 0, 'WHERE': 0}"
      ]
     },
     "execution_count": 134,
     "metadata": {},
     "output_type": "execute_result"
    }
   ],
   "source": [
    "count_dict"
   ]
  },
  {
   "cell_type": "code",
   "execution_count": 218,
   "metadata": {},
   "outputs": [
    {
     "name": "stdout",
     "output_type": "stream",
     "text": [
      "{}\n",
      "SELECT表示句:SELECT\n",
      "FROM表示句:FROM\n",
      "MAIN_FROM1\n",
      "(SELECT * FROM (SELECT * FROM MEOW.CCC_table ) as t1 )\n",
      "{'MAIN': \"CREATE TABLE FINAL as \\n               select a1, count(a2) \\n               from MEOW.AAA_table as t3 \\n                    left join (SELECT * FROM (SELECT * FROM MEOW.CCC_table ) as t1 ) as t2 on (t3.a1 = t2.a5)\\n               where t3.X1 = 'thing' and t3.X2 in (SELECT distinct(b1) FROM MEOW.BBB_table ) \\n               Group by a1\\n               limit 15\", 'MAIN_FROM1': '(SELECT * FROM (SELECT * FROM MEOW.CCC_table ) as t1 )'}\n",
      "SELECT表示句:SELECT\n",
      "FROM表示句:FROM\n",
      "MAIN_FROM1_FROM1\n",
      "(SELECT * FROM MEOW.CCC_table )\n",
      "{'MAIN': \"CREATE TABLE FINAL as \\n               select a1, count(a2) \\n               from MEOW.AAA_table as t3 \\n                    left join (SELECT * FROM (SELECT * FROM MEOW.CCC_table ) as t1 ) as t2 on (t3.a1 = t2.a5)\\n               where t3.X1 = 'thing' and t3.X2 in (SELECT distinct(b1) FROM MEOW.BBB_table ) \\n               Group by a1\\n               limit 15\", 'MAIN_FROM1': 'SELECT * FROM (SELECT * FROM MEOW.CCC_table ) as t1 ', 'MAIN_FROM1_FROM1': '(SELECT * FROM MEOW.CCC_table )'}\n",
      "SELECT表示句:SELECT\n",
      "FROM表示句:FROM\n",
      "WHERE表示句:WHERE T3.X1 = 'THING' AND T3.X2 IN (SELECT DISTINCT(B1) FROM MEOW.BBB_TABLE ) \n",
      "               \n",
      "MAIN_WHERE1\n",
      "(SELECT distinct(b1) FROM MEOW.BBB_table )\n",
      "{'MAIN': \"CREATE TABLE FINAL as \\n               select a1, count(a2) \\n               from MEOW.AAA_table as t3 \\n                    left join (SELECT * FROM (SELECT * FROM MEOW.CCC_table ) as t1 ) as t2 on (t3.a1 = t2.a5)\\n               where t3.X1 = 'thing' and t3.X2 in (SELECT distinct(b1) FROM MEOW.BBB_table ) \\n               Group by a1\\n               limit 15\", 'MAIN_FROM1': 'SELECT * FROM (SELECT * FROM MEOW.CCC_table ) as t1 ', 'MAIN_FROM1_FROM1': 'SELECT * FROM MEOW.CCC_table ', 'MAIN_WHERE1': '(SELECT distinct(b1) FROM MEOW.BBB_table )'}\n",
      "SELECT表示句:SELECT\n",
      "FROM表示句:FROM\n"
     ]
    }
   ],
   "source": [
    "the_query = '''CREATE TABLE FINAL as \n",
    "               select a1, count(a2) \n",
    "               from MEOW.AAA_table as t3 \n",
    "                    left join (SELECT * FROM (SELECT * FROM MEOW.CCC_table ) as t1 ) as t2 on (t3.a1 = t2.a5)\n",
    "               where t3.X1 = 'thing' and t3.X2 in (SELECT distinct(b1) FROM MEOW.BBB_table ) \n",
    "               Group by a1\n",
    "               limit 15'''\n",
    "# the_query = '''SELECT * FROM (SELECT * FROM MEOW.CCC_table ) as t1'''\n",
    "xx = {}\n",
    "xx = split_subquery(the_query, \n",
    "                    state = \"MAIN\",\n",
    "                   subquery_dict_params={})"
   ]
  },
  {
   "cell_type": "code",
   "execution_count": 208,
   "metadata": {},
   "outputs": [
    {
     "name": "stdout",
     "output_type": "stream",
     "text": [
      "{'MAIN': \"CREATE TABLE FINAL as \\n               select a1, count(a2) \\n               from MEOW.AAA_table as t3 \\n                    left join (SELECT * FROM (SELECT * FROM MEOW.CCC_table ) as t1 ) as t2 on (t3.a1 = t2.a5)\\n               where t3.X1 = 'thing' and t3.X2 in (SELECT distinct(b1) FROM MEOW.BBB_table ) \\n               Group by a1\\n               limit 15\", 'MAIN_FROM1': '(SELECT * FROM (SELECT * FROM MEOW.CCC_table ) as t1 )', 'MAIN_WHERE1': '(SELECT distinct(b1) FROM MEOW.BBB_table )'}\n",
      "SELECT表示句:SELECT\n",
      "FROM表示句:FROM\n",
      "MAIN_FROM1_FROM1\n",
      "(SELECT * FROM MEOW.CCC_table )\n",
      "{'MAIN': \"CREATE TABLE FINAL as \\n               select a1, count(a2) \\n               from MEOW.AAA_table as t3 \\n                    left join (SELECT * FROM (SELECT * FROM MEOW.CCC_table ) as t1 ) as t2 on (t3.a1 = t2.a5)\\n               where t3.X1 = 'thing' and t3.X2 in (SELECT distinct(b1) FROM MEOW.BBB_table ) \\n               Group by a1\\n               limit 15\", 'MAIN_FROM1': 'SELECT * FROM (SELECT * FROM MEOW.CCC_table ) as t1 ', 'MAIN_WHERE1': '(SELECT distinct(b1) FROM MEOW.BBB_table )', 'MAIN_FROM1_FROM1': '(SELECT * FROM MEOW.CCC_table )'}\n"
     ]
    }
   ],
   "source": [
    "the_query2 = xx[\"MAIN_FROM1\"][1:-1]\n",
    "xx = split_subquery(the_query2, \n",
    "                    state = \"MAIN_FROM1\",\n",
    "                   subquery_dict_params=xx)"
   ]
  },
  {
   "cell_type": "code",
   "execution_count": 106,
   "metadata": {},
   "outputs": [
    {
     "data": {
      "text/plain": [
       "\"CREATE TABLE FINAL as \\n               select a1, count(a2) \\n               from MEOW.AAA_table as t3 \\n                    left join (SELECT * FROM (SELECT * FROM MEOW.CCC_table ) as t1 ) as t2 on (t3.a1 = t2.a5)\\n               where t3.X1 = 'thing' and t3.X2 in (SELECT distinct(b1) FROM MEOW.BBB_table ) \\n               Group by a1\\n               limit 15\""
      ]
     },
     "execution_count": 106,
     "metadata": {},
     "output_type": "execute_result"
    }
   ],
   "source": [
    "the_query"
   ]
  },
  {
   "cell_type": "code",
   "execution_count": 219,
   "metadata": {},
   "outputs": [
    {
     "data": {
      "text/plain": [
       "{'MAIN': \"CREATE TABLE FINAL as \\n               select a1, count(a2) \\n               from MEOW.AAA_table as t3 \\n                    left join (SELECT * FROM (SELECT * FROM MEOW.CCC_table ) as t1 ) as t2 on (t3.a1 = t2.a5)\\n               where t3.X1 = 'thing' and t3.X2 in (SELECT distinct(b1) FROM MEOW.BBB_table ) \\n               Group by a1\\n               limit 15\",\n",
       " 'MAIN_FROM1': 'SELECT * FROM (SELECT * FROM MEOW.CCC_table ) as t1 ',\n",
       " 'MAIN_FROM1_FROM1': 'SELECT * FROM MEOW.CCC_table ',\n",
       " 'MAIN_WHERE1': 'SELECT distinct(b1) FROM MEOW.BBB_table '}"
      ]
     },
     "execution_count": 219,
     "metadata": {},
     "output_type": "execute_result"
    }
   ],
   "source": [
    "xx"
   ]
  },
  {
   "cell_type": "code",
   "execution_count": 59,
   "metadata": {},
   "outputs": [
    {
     "data": {
      "text/plain": [
       "'SELECT * FROM (SELECT * FROM MEOW.CCC_table ) as t1 '"
      ]
     },
     "execution_count": 59,
     "metadata": {},
     "output_type": "execute_result"
    }
   ],
   "source": [
    "xx[\"MAIN_FROM1\"][1:-1]"
   ]
  },
  {
   "cell_type": "code",
   "execution_count": 60,
   "metadata": {},
   "outputs": [
    {
     "name": "stdout",
     "output_type": "stream",
     "text": [
      "SELECT表示句:SELECT\n",
      "FROM表示句:FROM\n",
      "MAIN_FROM1_FROM1\n",
      "(SELECT * FROM (SELECT * FROM MEOW.CCC_table ) as t1 )\n",
      "WHERE表示句:WHERE T3.X1 = 'THING' AND T3.X2 IN (SELECT DISTINCT(B1) FROM MEOW.BBB_TABLE ) \n",
      "               \n",
      "MAIN_FROM1_WHERE1\n",
      "(SELECT distinct(b1) FROM MEOW.BBB_table )\n"
     ]
    },
    {
     "data": {
      "text/plain": [
       "{'MAIN': \"CREATE TABLE FINAL as \\n               select a1, count(a2) \\n               from MEOW.AAA_table as t3 \\n                    left join (SELECT * FROM (SELECT * FROM MEOW.CCC_table ) as t1 ) as t2 on (t3.a1 = t2.a5)\\n               where t3.X1 = 'thing' and t3.X2 in (SELECT distinct(b1) FROM MEOW.BBB_table ) \\n               Group by a1\\n               limit 15\",\n",
       " 'MAIN_FROM1': 'SELECT * FROM (SELECT * FROM MEOW.CCC_table ) as t1 ',\n",
       " 'MAIN_FROM1_FROM1': '(SELECT * FROM (SELECT * FROM MEOW.CCC_table ) as t1 )',\n",
       " 'MAIN_FROM1_WHERE1': '(SELECT distinct(b1) FROM MEOW.BBB_table )',\n",
       " 'MAIN_WHERE1': '(SELECT distinct(b1) FROM MEOW.BBB_table )'}"
      ]
     },
     "execution_count": 60,
     "metadata": {},
     "output_type": "execute_result"
    }
   ],
   "source": [
    "split_subquery(the_query = xx[\"MAIN_FROM1\"][1:-1], \n",
    "                           state = \"MAIN_FROM1\")"
   ]
  },
  {
   "cell_type": "code",
   "execution_count": 38,
   "metadata": {},
   "outputs": [
    {
     "name": "stdout",
     "output_type": "stream",
     "text": [
      "SELECT表示句:SELECT\n",
      "FROM表示句:FROM\n",
      "MAIN_FROM1\n",
      "(SELECT * FROM (SELECT * FROM MEOW.CCC_table ) as t1 )\n",
      "WHERE表示句:WHERE T3.X1 = 'THING' AND T3.X2 IN (SELECT DISTINCT(B1) FROM MEOW.BBB_TABLE ) \n",
      "               \n",
      "MAIN_WHERE1\n",
      "(SELECT distinct(b1) FROM MEOW.BBB_table )\n"
     ]
    },
    {
     "data": {
      "text/plain": [
       "{'MAIN': 'SELECT * FROM (SELECT * FROM MEOW.CCC_table ) as t1',\n",
       " 'MAIN_FROM1': '(SELECT * FROM (SELECT * FROM MEOW.CCC_table ) as t1 )',\n",
       " 'MAIN_FROM1_FROM1': '(SELECT * FROM (SELECT * FROM MEOW.CCC_table ) as t1 )',\n",
       " 'MAIN_FROM1_WHERE1': '(SELECT distinct(b1) FROM MEOW.BBB_table )',\n",
       " 'MAIN_WHERE1': '(SELECT distinct(b1) FROM MEOW.BBB_table )'}"
      ]
     },
     "execution_count": 38,
     "metadata": {},
     "output_type": "execute_result"
    }
   ],
   "source": [
    "split_subquery(the_query = \"SELECT * FROM (SELECT * FROM MEOW.CCC_table ) as t1\", \n",
    "                           state = \"MAIN_FROM1\")"
   ]
  },
  {
   "cell_type": "code",
   "execution_count": 36,
   "metadata": {},
   "outputs": [
    {
     "data": {
      "text/plain": [
       "'SELECT * FROM (SELECT * FROM MEOW.CCC_table ) as t1 '"
      ]
     },
     "execution_count": 36,
     "metadata": {},
     "output_type": "execute_result"
    }
   ],
   "source": [
    "subquery_dict[\"MAIN_FROM1\"][\"query\"][1:-1]"
   ]
  }
 ],
 "metadata": {
  "kernelspec": {
   "display_name": "Python 3",
   "language": "python",
   "name": "python3"
  },
  "language_info": {
   "codemirror_mode": {
    "name": "ipython",
    "version": 3
   },
   "file_extension": ".py",
   "mimetype": "text/x-python",
   "name": "python",
   "nbconvert_exporter": "python",
   "pygments_lexer": "ipython3",
   "version": "3.6.1"
  }
 },
 "nbformat": 4,
 "nbformat_minor": 2
}
