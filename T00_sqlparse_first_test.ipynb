{
 "cells": [
  {
   "cell_type": "code",
   "execution_count": 1,
   "metadata": {},
   "outputs": [],
   "source": [
    "import sqlparse"
   ]
  },
  {
   "cell_type": "code",
   "execution_count": 2,
   "metadata": {},
   "outputs": [
    {
     "data": {
      "text/plain": [
       "['select * from foo;', 'select * from bar;']"
      ]
     },
     "execution_count": 2,
     "metadata": {},
     "output_type": "execute_result"
    }
   ],
   "source": [
    "sqlparse.split('select * from foo; select * from bar;')"
   ]
  },
  {
   "cell_type": "code",
   "execution_count": 4,
   "metadata": {},
   "outputs": [
    {
     "name": "stdout",
     "output_type": "stream",
     "text": [
      "SELECT *\n",
      "FROM foo\n",
      "WHERE id IN\n",
      "    (SELECT id\n",
      "     FROM bar);\n"
     ]
    }
   ],
   "source": [
    "sql = 'select * from foo where id in (select id from bar);'\n",
    "print (sqlparse.format(sql, reindent=True, keyword_case='upper'))"
   ]
  },
  {
   "cell_type": "code",
   "execution_count": 6,
   "metadata": {},
   "outputs": [
    {
     "data": {
      "text/plain": [
       "[<DDL 'CREATE' at 0x264740FEA08>,\n",
       " <Whitespace ' ' at 0x264740FE048>,\n",
       " <Keyword 'TABLE' at 0x264740FE9A8>,\n",
       " <Whitespace ' ' at 0x264740FE1C8>,\n",
       " <Identifier 'TABLE_...' at 0x26473995B48>,\n",
       " <Whitespace ' ' at 0x264740FE648>,\n",
       " <Keyword 'AS' at 0x264740FE8E8>,\n",
       " <Newline ' ' at 0x264740FE528>,\n",
       " <DML 'SELECT' at 0x264740FE588>,\n",
       " <Whitespace ' ' at 0x264740FE708>,\n",
       " <Keyword 'DISTIN...' at 0x26472904348>,\n",
       " <Newline ' ' at 0x26473EA8828>,\n",
       " <IdentifierList 'A.COLA...' at 0x2647399B6C8>,\n",
       " <IdentifierList '(A.DEC...' at 0x2647399B7C8>,\n",
       " <Identifier '() OVER' at 0x2647399B048>,\n",
       " <Identifier '(PARTI...' at 0x2647399B4C8>,\n",
       " <Newline ' ' at 0x2647398D588>,\n",
       " <Keyword 'FROM' at 0x2647398D5E8>,\n",
       " <Whitespace ' ' at 0x2647398D648>,\n",
       " <IdentifierList 'FSCRM....' at 0x2647399B748>,\n",
       " <Whitespace ' ' at 0x26473991468>,\n",
       " <Newline ' ' at 0x264739914C8>,\n",
       " <Where 'WHERE ...' at 0x264739951C8>,\n",
       " <Keyword 'ORDER ...' at 0x26473993B28>,\n",
       " <Whitespace ' ' at 0x26473993B88>,\n",
       " <Identifier 'A.ORDE...' at 0x26473995AC8>,\n",
       " <Punctuation ';' at 0x26473993E28>]"
      ]
     },
     "execution_count": 6,
     "metadata": {},
     "output_type": "execute_result"
    }
   ],
   "source": [
    "sql = '''CREATE TABLE TABLE_TO_CREATE NOLOGGING AS\n",
    "SELECT DISTINCT\n",
    "A.COLA,\n",
    "B.COLB,\n",
    "DECODE(A.DECODE_CONDITION, 1, '是', '否') DECODED,\n",
    "ROW_NUMBER() OVER(PARTITION BY A.CLASS_CONDITION ORDER BY A.RAND_CONDITION DESC) RN\n",
    "FROM FSCRM.TABLE_A A,\n",
    "(SELECT * FROM TABLE_C C WHERE C.SOMETHING='SOMETHING' AND C.NUM=1234) B \n",
    "WHERE A.COMPARE_CONDITION=B.COMPARE_CONDITION\n",
    "AND A.NUM NOT IN (1, 2, 3)\n",
    "AND NOT EXISTS (SELECT D.COLD FROM TABLE_D WHERE A.COLA=D.COLD)\n",
    "ORDER BY A.ORDER_CONDITION\n",
    "/* COMMENTS */\n",
    ";'''\n",
    "res = sqlparse.parse(sql)\n",
    "res\n",
    "\n",
    "stmt = res[0]\n",
    "str(stmt)  # converting it back to unicode\n",
    "'select * from someschema.mytable where id = 1'\n",
    "# This is how the internal representation looks like:\n",
    "stmt.tokens\n"
   ]
  }
 ],
 "metadata": {
  "kernelspec": {
   "display_name": "Python 3",
   "language": "python",
   "name": "python3"
  },
  "language_info": {
   "codemirror_mode": {
    "name": "ipython",
    "version": 3
   },
   "file_extension": ".py",
   "mimetype": "text/x-python",
   "name": "python",
   "nbconvert_exporter": "python",
   "pygments_lexer": "ipython3",
   "version": "3.7.4"
  },
  "toc": {
   "base_numbering": 1,
   "nav_menu": {},
   "number_sections": true,
   "sideBar": true,
   "skip_h1_title": false,
   "title_cell": "Table of Contents",
   "title_sidebar": "Contents",
   "toc_cell": false,
   "toc_position": {},
   "toc_section_display": true,
   "toc_window_display": false
  }
 },
 "nbformat": 4,
 "nbformat_minor": 2
}
